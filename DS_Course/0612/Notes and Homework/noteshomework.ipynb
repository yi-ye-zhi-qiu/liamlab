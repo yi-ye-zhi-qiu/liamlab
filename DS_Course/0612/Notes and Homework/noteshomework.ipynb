{
 "cells": [
  {
   "cell_type": "markdown",
   "id": "weird-revision",
   "metadata": {},
   "source": [
    "## Liam's Lab, June 12 2021"
   ]
  },
  {
   "cell_type": "markdown",
   "id": "described-roulette",
   "metadata": {},
   "source": [
    "#### notes & hw"
   ]
  },
  {
   "cell_type": "markdown",
   "id": "considered-shopping",
   "metadata": {},
   "source": [
    "----"
   ]
  },
  {
   "cell_type": "code",
   "execution_count": 1,
   "id": "attended-superior",
   "metadata": {},
   "outputs": [],
   "source": [
    "import random \n",
    "from datetime import datetime"
   ]
  },
  {
   "cell_type": "code",
   "execution_count": 55,
   "id": "gentle-interest",
   "metadata": {},
   "outputs": [],
   "source": [
    "def emoji_chooser(): \n",
    "    '''\n",
    "    Chooses a random emoji\n",
    "    @requirements:  import random \n",
    "    @parameters:    None\n",
    "    @outputs:       random emoji from emoji list defined as emojis\n",
    "    '''\n",
    "    emojis = [\"🐧\", \"🦆\", \"🐠\", \"🍂\", \"🍄\", \"🌺\", \"☃️\", \"🐝\", \"👻\"]\n",
    "    chosen_emoji = random.choice(emojis)\n",
    "    return chosen_emoji\n",
    "\n",
    "def yes_or_no(game_over=False,\n",
    "              override_user_choice=False,\n",
    "              number_of_times_rejected = 0):\n",
    "    '''\n",
    "    Python game for saying yes or no. Game ends when user says \"Yes\" or \"No\" 4 times.\n",
    "    @requirements:   emoji_chooser\n",
    "    @parameters:     parameter             functionality\n",
    "                     game_over                 boolean to check if game has ended;\n",
    "                     override_user_choice      boolean to check if user's choice should be forced to be \"Yes\"\n",
    "                     number_of_times_rejected  counter incremented upon user saying \"No\" that exists \n",
    "                                               to trigger override_user_choice to be True if > 4\n",
    "    @outputs:        Will ask for user input and return 'You said Yes, thanks for your support!' upon input yes, reaction + emoji if No, \n",
    "                     execute an override of user input to Yes if # times rejected >= 5, and re-runs itself if user_input is not Yes or No.\n",
    "            \n",
    "    '''\n",
    "    \n",
    "    while not game_over:\n",
    "    \n",
    "        if override_user_choice == False and number_of_times_rejected < 5:\n",
    "            user_input = input('Please type \"Yes\" or \"No\"')\n",
    "            print(f'=====\\nADMIN PANEL:\\n    USER INPUT WAS {user_input} \\n    # OF TIMES USER HAS SAID NO: {number_of_times_rejected}\\n    USER OVERRIDE BOOLEAN: {override_user_choice}\\n=====')\n",
    "\n",
    "            if user_input == 'No':\n",
    "                number_of_times_rejected += 1\n",
    "                \n",
    "                possible_exclamations = [\"OMG ok well...     \", \"LOLLL really?     \", \"Nooo c'mon     \", \"Oh my ...    \", \" Stop I'm warning you...    \"]\n",
    "                reaction = random.choice(possible_exclamations) + emoji_chooser()\n",
    "                print(reaction)\n",
    "                \n",
    "                if number_of_times_rejected >= 5:\n",
    "                    print('What makes you think this is a discussion?')\n",
    "                    yes_or_no(override_user_choice=True, \n",
    "                              game_over=False,\n",
    "                              number_of_times_rejected =number_of_times_rejected)\n",
    "\n",
    "                yes_or_no(game_over=False,\n",
    "                          number_of_times_rejected   =number_of_times_rejected)\n",
    "\n",
    "            if user_input == 'Yes':\n",
    "                print('You said {} , thanks for your support!'.format(user_input))\n",
    "                yes_or_no(game_over=True)\n",
    "        \n",
    "            if user_input not in ['Yes', 'No']:\n",
    "                print(\"Stick to Yes or No ..\")\n",
    "                yes_or_no(game_over=False,\n",
    "                        number_of_times_rejected =number_of_times_rejected)        \n",
    "\n",
    "        if override_user_choice == True:\n",
    "            print('YOUR CHOICE HAS BEEN OVERRIDDEN ! HAAHAHa hah aHAHAHA AHAHAHA')\n",
    "            print('   HAHAHAHAHAHAH YES, THE POWER IS ALL MINE!!!    ')\n",
    "            print('       Yes, YOU SAID? HAH ')\n",
    "            break;\n",
    "        \n",
    "        break;\n",
    "\n"
   ]
  },
  {
   "cell_type": "code",
   "execution_count": 56,
   "id": "extraordinary-future",
   "metadata": {},
   "outputs": [
    {
     "name": "stdout",
     "output_type": "stream",
     "text": [
      "Hello welcome to the yes or no block of code chooser!\n",
      "Request is \"referring to things in a list as elements\" \n",
      "Made by Liam, Lab Member 00 @ 14:18:01 \n",
      "What do you say? Is this change all right with you?\n"
     ]
    },
    {
     "name": "stdin",
     "output_type": "stream",
     "text": [
      "Please type \"Yes\" or \"No\" No\n"
     ]
    },
    {
     "name": "stdout",
     "output_type": "stream",
     "text": [
      "=====\n",
      "ADMIN PANEL:\n",
      "    USER INPUT WAS No \n",
      "    # OF TIMES USER HAS SAID NO: 0\n",
      "    USER OVERRIDE BOOLEAN: False\n",
      "=====\n",
      " Stop I'm warning you...    🐧\n"
     ]
    },
    {
     "name": "stdin",
     "output_type": "stream",
     "text": [
      "Please type \"Yes\" or \"No\" No\n"
     ]
    },
    {
     "name": "stdout",
     "output_type": "stream",
     "text": [
      "=====\n",
      "ADMIN PANEL:\n",
      "    USER INPUT WAS No \n",
      "    # OF TIMES USER HAS SAID NO: 1\n",
      "    USER OVERRIDE BOOLEAN: False\n",
      "=====\n",
      "OMG ok well...     ☃️\n"
     ]
    },
    {
     "name": "stdin",
     "output_type": "stream",
     "text": [
      "Please type \"Yes\" or \"No\" No\n"
     ]
    },
    {
     "name": "stdout",
     "output_type": "stream",
     "text": [
      "=====\n",
      "ADMIN PANEL:\n",
      "    USER INPUT WAS No \n",
      "    # OF TIMES USER HAS SAID NO: 2\n",
      "    USER OVERRIDE BOOLEAN: False\n",
      "=====\n",
      " Stop I'm warning you...    🌺\n"
     ]
    },
    {
     "name": "stdin",
     "output_type": "stream",
     "text": [
      "Please type \"Yes\" or \"No\" No\n"
     ]
    },
    {
     "name": "stdout",
     "output_type": "stream",
     "text": [
      "=====\n",
      "ADMIN PANEL:\n",
      "    USER INPUT WAS No \n",
      "    # OF TIMES USER HAS SAID NO: 3\n",
      "    USER OVERRIDE BOOLEAN: False\n",
      "=====\n",
      "LOLLL really?     🦆\n"
     ]
    },
    {
     "name": "stdin",
     "output_type": "stream",
     "text": [
      "Please type \"Yes\" or \"No\" No\n"
     ]
    },
    {
     "name": "stdout",
     "output_type": "stream",
     "text": [
      "=====\n",
      "ADMIN PANEL:\n",
      "    USER INPUT WAS No \n",
      "    # OF TIMES USER HAS SAID NO: 4\n",
      "    USER OVERRIDE BOOLEAN: False\n",
      "=====\n",
      "Oh my ...    🌺\n",
      "What makes you think this is a discussion?\n",
      "YOUR CHOICE HAS BEEN OVERRIDDEN ! HAAHAHa hah aHAHAHA AHAHAHA\n",
      "   HAHAHAHAHAHAH YES, THE POWER IS ALL MINE!!!    \n",
      "       Yes, YOU SAID? HAH \n"
     ]
    }
   ],
   "source": [
    "request = 'referring to things in a list as elements'\n",
    "requestor = 'Liam, Lab Member 00'\n",
    "now = datetime.now()\n",
    "current_time = now.strftime(\"%H:%M:%S\")    \n",
    "\n",
    "print('Hello welcome to the yes or no block of code chooser!')\n",
    "print(f'Request is \"{request}\" \\nMade by {requestor} @ {current_time} \\nWhat do you say? Is this change all right with you?')\n",
    "yes_or_no(game_over = False)"
   ]
  },
  {
   "cell_type": "markdown",
   "id": "rough-cornell",
   "metadata": {},
   "source": [
    "----"
   ]
  },
  {
   "cell_type": "markdown",
   "id": "deluxe-grave",
   "metadata": {},
   "source": [
    "#### **Active solve**:\n",
    "Let’s assume I have a list [“a”, “b”, “c”] and want to, for each element of the list, print out its index-value pair. "
   ]
  },
  {
   "cell_type": "code",
   "execution_count": 58,
   "id": "particular-rogers",
   "metadata": {},
   "outputs": [],
   "source": [
    "#Write your code here!\n",
    "\n",
    "\n",
    "#Desired output: \n",
    "#Value: a, Index: 0\n",
    "#Value: b, Index: 1\n",
    "#Value: c, Index: 2"
   ]
  },
  {
   "cell_type": "markdown",
   "id": "thermal-fifty",
   "metadata": {},
   "source": [
    "#### **Active solve**:\n",
    "Let’s assume I have a string “abc” and want to, for each element of the string, print out its index-value pair. "
   ]
  },
  {
   "cell_type": "code",
   "execution_count": null,
   "id": "broke-result",
   "metadata": {},
   "outputs": [],
   "source": [
    "#Write your code here!\n",
    "\n",
    "\n",
    "#Desired output: \n",
    "#Value: a, Index: 0\n",
    "#Value: b, Index: 1\n",
    "#Value: c, Index: 2"
   ]
  },
  {
   "cell_type": "markdown",
   "id": "negative-adoption",
   "metadata": {},
   "source": [
    "#### **Active solve**:\n",
    "Let’s assume I have a list of lists [[0,0],[1,1],[2,2]]  and want to, for each element of the list of lists, print out its index-value pair. "
   ]
  },
  {
   "cell_type": "code",
   "execution_count": 70,
   "id": "framed-charlotte",
   "metadata": {},
   "outputs": [],
   "source": [
    "#Write your code here!\n",
    "\n",
    "#Desired output: \n",
    "#Value: [0, 0], Index: 0\n",
    "#Value: [1, 1], Index: 1\n",
    "#Value: [2, 2], Index: 2"
   ]
  },
  {
   "cell_type": "markdown",
   "id": "attended-variety",
   "metadata": {},
   "source": [
    "#### **Active solve**:\n",
    "\n",
    "Let’s assume I have a list [‘a’, ‘b’, ‘c’] and want to, for each element of the string, use enumerate to print out its index-value pair as a tuple. "
   ]
  },
  {
   "cell_type": "code",
   "execution_count": 71,
   "id": "given-cigarette",
   "metadata": {},
   "outputs": [],
   "source": [
    "#Write your code here!\n",
    "\n",
    "#Desired output: \n",
    "#(a, 0)\n",
    "#(b, 1)\n",
    "#(c, 2)"
   ]
  },
  {
   "cell_type": "markdown",
   "id": "hired-midnight",
   "metadata": {},
   "source": [
    "#### **Active solve**:\n",
    "    \n",
    "Let’s assume I have a list [‘a’, ‘b’, ‘c’] and want to, for each element of \n",
    "the string, use enumerate to print out only the index. \n"
   ]
  },
  {
   "cell_type": "code",
   "execution_count": 72,
   "id": "sealed-navigator",
   "metadata": {},
   "outputs": [],
   "source": [
    "#Write your code here!\n",
    "\n",
    "#Desired output: \n",
    "#0\n",
    "#1\n",
    "#2"
   ]
  },
  {
   "cell_type": "markdown",
   "id": "fixed-merchant",
   "metadata": {},
   "source": [
    "#### **Active solve:**\n",
    "\n",
    "Let’s assume I have a list [‘a’, ‘b’, ‘c’] and want to, for each element of the string, use enumerate to print out the index-value pair. "
   ]
  },
  {
   "cell_type": "code",
   "execution_count": 73,
   "id": "caroline-enzyme",
   "metadata": {},
   "outputs": [],
   "source": [
    "#Write your code here!\n",
    "\n",
    "#Desired output: \n",
    "#Value: a, Index: 0\n",
    "#Value: b, Index: 1\n",
    "#Value: c, Index: 2"
   ]
  },
  {
   "cell_type": "markdown",
   "id": "infectious-challenge",
   "metadata": {},
   "source": [
    "#### **Active solve:**\n",
    "\n",
    "Can you write some code that sums all even numbers in the range 1-100?\n",
    "\n",
    "Hint: even numbers are divisible by 2."
   ]
  },
  {
   "cell_type": "code",
   "execution_count": null,
   "id": "electrical-marker",
   "metadata": {},
   "outputs": [],
   "source": []
  },
  {
   "cell_type": "markdown",
   "id": "spanish-tradition",
   "metadata": {},
   "source": [
    "----"
   ]
  },
  {
   "cell_type": "markdown",
   "id": "comparable-source",
   "metadata": {},
   "source": [
    "### Multiples of 3 and 5\n",
    "\n",
    "If we list all the natural numbers below 10 that are multiples of 3 or 5, we get 3, 5, 6 and 9. The sum of these multiples is 23.\n",
    "Find the sum of all the multiples of 3 or 5 below 1000.\n"
   ]
  },
  {
   "cell_type": "code",
   "execution_count": null,
   "id": "clinical-quantity",
   "metadata": {},
   "outputs": [],
   "source": []
  },
  {
   "cell_type": "markdown",
   "id": "statutory-polymer",
   "metadata": {},
   "source": [
    "### Even Fibonacci Numbers\n",
    "\n",
    "Each new term in the Fibonacci sequence is generated by adding the previous two terms. By starting with 1 and 2, the first 10 terms will be:\n",
    "1, 2, 3, 5, 8, 13, 21, 34, 55, 89, ...\n",
    "By considering the terms in the Fibonacci sequence whose values do not exceed four million, find the sum of the even-valued terms.\n"
   ]
  },
  {
   "cell_type": "code",
   "execution_count": null,
   "id": "rough-crisis",
   "metadata": {},
   "outputs": [],
   "source": []
  }
 ],
 "metadata": {
  "kernelspec": {
   "display_name": "Python 3",
   "language": "python",
   "name": "python3"
  },
  "language_info": {
   "codemirror_mode": {
    "name": "ipython",
    "version": 3
   },
   "file_extension": ".py",
   "mimetype": "text/x-python",
   "name": "python",
   "nbconvert_exporter": "python",
   "pygments_lexer": "ipython3",
   "version": "3.8.5"
  }
 },
 "nbformat": 4,
 "nbformat_minor": 5
}
