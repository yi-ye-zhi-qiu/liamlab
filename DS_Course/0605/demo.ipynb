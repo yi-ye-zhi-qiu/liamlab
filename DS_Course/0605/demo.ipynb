{
 "cells": [
  {
   "cell_type": "code",
   "execution_count": 24,
   "id": "placed-culture",
   "metadata": {},
   "outputs": [
    {
     "name": "stdout",
     "output_type": "stream",
     "text": [
      "0 even\n",
      "1 odd\n",
      "2 even\n",
      "3 odd\n",
      "4 even\n",
      "5 odd\n",
      "6 even\n",
      "7 odd\n",
      "8 even\n",
      "9 odd\n"
     ]
    }
   ],
   "source": [
    "for i in range (10):\n",
    "    if i % 2 ==0:\n",
    "        print (i,'even')\n",
    "    else:\n",
    "        print (i,'odd')\n",
    "            "
   ]
  },
  {
   "cell_type": "code",
   "execution_count": null,
   "id": "growing-tomorrow",
   "metadata": {},
   "outputs": [],
   "source": []
  },
  {
   "cell_type": "markdown",
   "id": "usual-galaxy",
   "metadata": {},
   "source": [
    "## Liams Lab"
   ]
  },
  {
   "cell_type": "markdown",
   "id": "jewish-allergy",
   "metadata": {},
   "source": [
    "Introducing: Python!!!"
   ]
  },
  {
   "cell_type": "code",
   "execution_count": 1,
   "id": "breathing-captain",
   "metadata": {},
   "outputs": [
    {
     "name": "stdout",
     "output_type": "stream",
     "text": [
      "Welcome, student 0!\n",
      "Welcome, student 1!\n",
      "Welcome, student 2!\n"
     ]
    }
   ],
   "source": [
    "for i in range(3): \n",
    "    print(f'Welcome, student {i}!')"
   ]
  },
  {
   "cell_type": "markdown",
   "id": "developmental-domain",
   "metadata": {},
   "source": [
    "### Data-types\n",
    "\n",
    "- List\n",
    "- Dictionary\n",
    "- Set\n",
    "- Tuple\n",
    "- String"
   ]
  },
  {
   "cell_type": "code",
   "execution_count": 4,
   "id": "posted-deployment",
   "metadata": {},
   "outputs": [
    {
     "name": "stdout",
     "output_type": "stream",
     "text": [
      "moo-ta-ble and freeeee [1, 1, 2, 2, 3, 4, 5]\n"
     ]
    }
   ],
   "source": [
    "#list\n",
    "l = [1, 1, 2, 2, 3, 4, 5]\n",
    "print('moo-ta-ble and freeeee {}'.format(l))"
   ]
  },
  {
   "cell_type": "code",
   "execution_count": 5,
   "id": "accurate-calvin",
   "metadata": {},
   "outputs": [
    {
     "name": "stdout",
     "output_type": "stream",
     "text": [
      "where my keys ...\n",
      "looks left\n",
      "looks right\n",
      "OH!  dict_keys(['key', 'key2'])\n",
      "but mah values...\n"
     ]
    },
    {
     "ename": "KeyboardInterrupt",
     "evalue": "",
     "output_type": "error",
     "traceback": [
      "\u001b[0;31m---------------------------------------------------------------------------\u001b[0m",
      "\u001b[0;31mKeyboardInterrupt\u001b[0m                         Traceback (most recent call last)",
      "\u001b[0;32m<ipython-input-5-612b590251d5>\u001b[0m in \u001b[0;36m<module>\u001b[0;34m\u001b[0m\n\u001b[1;32m     17\u001b[0m \u001b[0;34m\u001b[0m\u001b[0m\n\u001b[1;32m     18\u001b[0m \u001b[0mprint\u001b[0m\u001b[0;34m(\u001b[0m\u001b[0;34m'but mah values...'\u001b[0m\u001b[0;34m)\u001b[0m\u001b[0;34m\u001b[0m\u001b[0;34m\u001b[0m\u001b[0m\n\u001b[0;32m---> 19\u001b[0;31m \u001b[0mtime\u001b[0m\u001b[0;34m.\u001b[0m\u001b[0msleep\u001b[0m\u001b[0;34m(\u001b[0m\u001b[0;36m10000000\u001b[0m\u001b[0;34m)\u001b[0m\u001b[0;34m\u001b[0m\u001b[0;34m\u001b[0m\u001b[0m\n\u001b[0m\u001b[1;32m     20\u001b[0m \u001b[0mprint\u001b[0m\u001b[0;34m(\u001b[0m\u001b[0;34m'stop me from looking for my values :('\u001b[0m\u001b[0;34m)\u001b[0m\u001b[0;34m\u001b[0m\u001b[0;34m\u001b[0m\u001b[0m\n",
      "\u001b[0;31mKeyboardInterrupt\u001b[0m: "
     ]
    }
   ],
   "source": [
    "#Don't mind me...\n",
    "import time\n",
    "\n",
    "#dictionary\n",
    "d = {\n",
    "        'key': 'value',\n",
    "        'key2': 'value2'\n",
    "    }\n",
    "print('where my keys ...')\n",
    "time.sleep(1)\n",
    "print('looks left')\n",
    "time.sleep(2)\n",
    "print('looks right')\n",
    "time.sleep(1)\n",
    "print('OH! ',d.keys())\n",
    "time.sleep(2)\n",
    "\n",
    "print('but mah values...')\n",
    "time.sleep(10000000)\n",
    "print('stop me from looking for my values :(')"
   ]
  },
  {
   "cell_type": "code",
   "execution_count": 6,
   "id": "physical-chambers",
   "metadata": {},
   "outputs": [
    {
     "data": {
      "text/plain": [
       "{1, 2, 3, 4, 5}"
      ]
     },
     "execution_count": 6,
     "metadata": {},
     "output_type": "execute_result"
    }
   ],
   "source": [
    "#set\n",
    "s = set(l)\n",
    "s"
   ]
  },
  {
   "cell_type": "code",
   "execution_count": 7,
   "id": "republican-opportunity",
   "metadata": {},
   "outputs": [
    {
     "data": {
      "text/plain": [
       "tuple"
      ]
     },
     "execution_count": 7,
     "metadata": {},
     "output_type": "execute_result"
    }
   ],
   "source": [
    "#tuple\n",
    "t = (1, 2)\n",
    "type(t)"
   ]
  },
  {
   "cell_type": "code",
   "execution_count": 8,
   "id": "blessed-henry",
   "metadata": {},
   "outputs": [
    {
     "data": {
      "text/plain": [
       "'hello'"
      ]
     },
     "execution_count": 8,
     "metadata": {},
     "output_type": "execute_result"
    }
   ],
   "source": [
    "#string\n",
    "h = 'hello'\n",
    "h"
   ]
  },
  {
   "cell_type": "markdown",
   "id": "whole-nightlife",
   "metadata": {},
   "source": [
    "#### Write a program that prints out every number 1 - 10"
   ]
  },
  {
   "cell_type": "code",
   "execution_count": null,
   "id": "tired-gauge",
   "metadata": {},
   "outputs": [],
   "source": []
  },
  {
   "cell_type": "markdown",
   "id": "speaking-knight",
   "metadata": {},
   "source": [
    "How about only the odd numbers? ..."
   ]
  },
  {
   "cell_type": "code",
   "execution_count": null,
   "id": "large-success",
   "metadata": {},
   "outputs": [],
   "source": [
    "# hee hee good luck"
   ]
  },
  {
   "cell_type": "markdown",
   "id": "promotional-reducing",
   "metadata": {},
   "source": [
    "Gotcha ! Haven't gone over math yet, have we.\n",
    "\n",
    "## Math"
   ]
  },
  {
   "cell_type": "code",
   "execution_count": 7,
   "id": "interim-finish",
   "metadata": {},
   "outputs": [
    {
     "name": "stdout",
     "output_type": "stream",
     "text": [
      "1\n",
      "0\n",
      "1\n",
      "0\n",
      "1\n",
      "0\n",
      "1\n",
      "0\n",
      "1\n",
      "0\n"
     ]
    }
   ],
   "source": [
    "l = [1, 2, 3, 4, 5, 6, 7, 8, 9, 10]\n",
    "for i in l: \n",
    "    print(i%2)"
   ]
  },
  {
   "cell_type": "markdown",
   "id": "norman-darkness",
   "metadata": {},
   "source": [
    "What the heck you think is happening here, huh?"
   ]
  },
  {
   "cell_type": "code",
   "execution_count": 14,
   "id": "legendary-reference",
   "metadata": {},
   "outputs": [
    {
     "name": "stdout",
     "output_type": "stream",
     "text": [
      "0\n",
      "1\n",
      "0\n",
      "1\n",
      "0\n",
      "1\n",
      "0\n",
      "1\n",
      "0\n",
      "1\n"
     ]
    }
   ],
   "source": [
    "for i in range(10):\n",
    "    print(i%2)"
   ]
  },
  {
   "cell_type": "code",
   "execution_count": 12,
   "id": "authorized-procurement",
   "metadata": {},
   "outputs": [
    {
     "name": "stdout",
     "output_type": "stream",
     "text": [
      "5\n",
      "50\n",
      "100\n"
     ]
    }
   ],
   "source": [
    "l = [10, 100, 200]\n",
    "for i in l:\n",
    "    print(i//2)"
   ]
  },
  {
   "cell_type": "markdown",
   "id": "alleged-latter",
   "metadata": {},
   "source": [
    "What's goin on..."
   ]
  },
  {
   "cell_type": "markdown",
   "id": "conditional-semiconductor",
   "metadata": {},
   "source": []
  },
  {
   "cell_type": "markdown",
   "id": "specialized-judges",
   "metadata": {},
   "source": [
    "## If statements"
   ]
  },
  {
   "cell_type": "code",
   "execution_count": null,
   "id": "correct-static",
   "metadata": {},
   "outputs": [],
   "source": [
    "your_name =  '' #Enter your name\n",
    "\n",
    "if your_name == 'Hao':\n",
    "    print('浩白您好')\n",
    "if your_name == 'Jungmin' or your_name == 'Ji':\n",
    "    print('안녕하세요')\n",
    "if your_name == 'Liam' or your_name == 'BossAssBitch':\n",
    "    print('00110010010')"
   ]
  },
  {
   "cell_type": "code",
   "execution_count": null,
   "id": "pleasant-producer",
   "metadata": {},
   "outputs": [],
   "source": [
    "# Write a program that tells me when my coffee is ready. \n",
    "# I don't know, use an if statement or something."
   ]
  },
  {
   "cell_type": "code",
   "execution_count": null,
   "id": "dominican-defeat",
   "metadata": {},
   "outputs": [],
   "source": []
  },
  {
   "cell_type": "markdown",
   "id": "affected-taxation",
   "metadata": {},
   "source": [
    "## Enumerate"
   ]
  },
  {
   "cell_type": "code",
   "execution_count": null,
   "id": "empirical-router",
   "metadata": {},
   "outputs": [],
   "source": [
    "l = [1, 2, 3, 4, 5]\n",
    "#print the index, value for l"
   ]
  },
  {
   "cell_type": "markdown",
   "id": "prime-diversity",
   "metadata": {},
   "source": []
  },
  {
   "cell_type": "markdown",
   "id": "saved-financing",
   "metadata": {},
   "source": [
    "## Grandmaster challenge"
   ]
  },
  {
   "cell_type": "markdown",
   "id": "improving-framing",
   "metadata": {},
   "source": [
    "Uh oh guys, we've reached the **grandmaster** challenge, today's BEAST-MODE WRECKAGE moment. Best of luck. "
   ]
  },
  {
   "cell_type": "markdown",
   "id": "silent-northeast",
   "metadata": {},
   "source": [
    "If we list all the natural numbers below 10 that are multiples of 3 or 5, we get 3, 5, 6 and 9. The sum of these multiples is 23.\n",
    "\n",
    "Find the sum of all the multiples of 3 or 5 below 1000."
   ]
  },
  {
   "cell_type": "code",
   "execution_count": null,
   "id": "first-portuguese",
   "metadata": {},
   "outputs": [],
   "source": []
  }
 ],
 "metadata": {
  "kernelspec": {
   "display_name": "Python 3",
   "language": "python",
   "name": "python3"
  },
  "language_info": {
   "codemirror_mode": {
    "name": "ipython",
    "version": 3
   },
   "file_extension": ".py",
   "mimetype": "text/x-python",
   "name": "python",
   "nbconvert_exporter": "python",
   "pygments_lexer": "ipython3",
   "version": "3.8.5"
  }
 },
 "nbformat": 4,
 "nbformat_minor": 5
}
