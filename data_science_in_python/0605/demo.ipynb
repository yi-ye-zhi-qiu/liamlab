{
 "cells": [
  {
   "cell_type": "markdown",
   "id": "concerned-number",
   "metadata": {},
   "source": [
    "## Liams Lab"
   ]
  },
  {
   "cell_type": "markdown",
   "id": "handed-onion",
   "metadata": {},
   "source": [
    "Introducing: Python!!!"
   ]
  },
  {
   "cell_type": "code",
   "execution_count": null,
   "id": "coastal-trailer",
   "metadata": {},
   "outputs": [],
   "source": [
    "for i in range(4):\n",
    "    print(i)"
   ]
  },
  {
   "cell_type": "markdown",
   "id": "latin-browser",
   "metadata": {},
   "source": [
    "hibhjhjhjhj"
   ]
  },
  {
   "cell_type": "code",
   "execution_count": null,
   "id": "mature-western",
   "metadata": {},
   "outputs": [],
   "source": [
    "for i in range(5): \n",
    "    print('Welcome, student {}  {}'.format(i, 'poop'))"
   ]
  },
  {
   "cell_type": "markdown",
   "id": "determined-engine",
   "metadata": {},
   "source": [
    "### Data-types\n",
    "\n",
    "- List\n",
    "- Dictionary\n",
    "- Set\n",
    "- Tuple\n",
    "- String"
   ]
  },
  {
   "cell_type": "code",
   "execution_count": null,
   "id": "radio-spice",
   "metadata": {},
   "outputs": [],
   "source": [
    "#list\n",
    "l = [1, 1, 2, 2, 3, 4, 5]\n",
    "print('moo-ta-ble and freeeee {}'.format(l))"
   ]
  },
  {
   "cell_type": "code",
   "execution_count": null,
   "id": "marine-registration",
   "metadata": {},
   "outputs": [],
   "source": [
    "#Don't mind me...\n",
    "import time\n",
    "\n",
    "#dictionary\n",
    "d = {\n",
    "        'key': 'value',\n",
    "        'key2': 'value2'\n",
    "    }\n",
    "print('where my keys ...')\n",
    "time.sleep(1)\n",
    "print('looks left')\n",
    "time.sleep(2)\n",
    "print('looks right')\n",
    "time.sleep(1)\n",
    "print('OH! ',d.keys())\n",
    "time.sleep(2)\n",
    "\n",
    "print('but mah values...')\n",
    "time.sleep(10000000)\n",
    "print('stop me from looking for my values :(')"
   ]
  },
  {
   "cell_type": "code",
   "execution_count": null,
   "id": "recovered-label",
   "metadata": {},
   "outputs": [],
   "source": [
    "#set\n",
    "s = set(l)\n",
    "s"
   ]
  },
  {
   "cell_type": "code",
   "execution_count": null,
   "id": "rural-employee",
   "metadata": {},
   "outputs": [],
   "source": [
    "#tuple\n",
    "t = (1, 2)\n",
    "type(t)"
   ]
  },
  {
   "cell_type": "code",
   "execution_count": null,
   "id": "disturbed-advertising",
   "metadata": {},
   "outputs": [],
   "source": [
    "l"
   ]
  },
  {
   "cell_type": "code",
   "execution_count": null,
   "id": "organized-actress",
   "metadata": {},
   "outputs": [],
   "source": [
    "h"
   ]
  },
  {
   "cell_type": "code",
   "execution_count": null,
   "id": "plain-profit",
   "metadata": {},
   "outputs": [],
   "source": [
    "l"
   ]
  },
  {
   "cell_type": "code",
   "execution_count": null,
   "id": "czech-execution",
   "metadata": {},
   "outputs": [],
   "source": []
  },
  {
   "cell_type": "code",
   "execution_count": null,
   "id": "ignored-ratio",
   "metadata": {},
   "outputs": [],
   "source": [
    "#string\n",
    "h = 'hello'\n",
    "h"
   ]
  },
  {
   "cell_type": "markdown",
   "id": "graphic-sector",
   "metadata": {},
   "source": [
    "#### Write a program that prints out every number 1 - 10"
   ]
  },
  {
   "cell_type": "code",
   "execution_count": null,
   "id": "parliamentary-cooper",
   "metadata": {},
   "outputs": [],
   "source": [
    "for i in range(10):\n",
    "    print(i +1)"
   ]
  },
  {
   "cell_type": "markdown",
   "id": "celtic-hammer",
   "metadata": {},
   "source": [
    "Count all the beans in a jar"
   ]
  },
  {
   "cell_type": "code",
   "execution_count": null,
   "id": "polar-terrain",
   "metadata": {},
   "outputs": [],
   "source": [
    "the_jar = ['bean', 'bean', 'bean', 'bean']"
   ]
  },
  {
   "cell_type": "code",
   "execution_count": null,
   "id": "diagnostic-lottery",
   "metadata": {},
   "outputs": [],
   "source": [
    "counter=0\n",
    "for bean in the_jar:\n",
    "    \n",
    "    counter=counter +1\n",
    "counter"
   ]
  },
  {
   "cell_type": "code",
   "execution_count": null,
   "id": "august-flour",
   "metadata": {},
   "outputs": [],
   "source": [
    "for letter in 'Hellosaldkfjasldkjf':\n",
    "    print(letter)"
   ]
  },
  {
   "cell_type": "code",
   "execution_count": null,
   "id": "hazardous-christmas",
   "metadata": {},
   "outputs": [],
   "source": []
  },
  {
   "cell_type": "code",
   "execution_count": null,
   "id": "local-buying",
   "metadata": {},
   "outputs": [],
   "source": []
  },
  {
   "cell_type": "code",
   "execution_count": null,
   "id": "sunrise-indian",
   "metadata": {},
   "outputs": [],
   "source": [
    "for letter in 'abcd':\n",
    "    print(f'value {letter}')\n",
    "    \n"
   ]
  },
  {
   "cell_type": "markdown",
   "id": "interior-saver",
   "metadata": {},
   "source": [
    "How about only the odd numbers? ..."
   ]
  },
  {
   "cell_type": "code",
   "execution_count": null,
   "id": "adverse-dream",
   "metadata": {},
   "outputs": [],
   "source": [
    "# hee hee good luck"
   ]
  },
  {
   "cell_type": "markdown",
   "id": "facial-dance",
   "metadata": {},
   "source": [
    "Gotcha ! Haven't gone over math yet, have we.\n",
    "\n",
    "## Math"
   ]
  },
  {
   "cell_type": "code",
   "execution_count": null,
   "id": "parallel-black",
   "metadata": {},
   "outputs": [],
   "source": [
    "l = [1, 2, 3, 4, 5, 6, 7, 8, 9, 10]\n",
    "for i in l: \n",
    "    print(i%2)"
   ]
  },
  {
   "cell_type": "markdown",
   "id": "asian-mileage",
   "metadata": {},
   "source": [
    "What the heck you think is happening here, huh?"
   ]
  },
  {
   "cell_type": "code",
   "execution_count": null,
   "id": "wound-special",
   "metadata": {},
   "outputs": [],
   "source": [
    "for i in range(10):\n",
    "    print(i%2)"
   ]
  },
  {
   "cell_type": "code",
   "execution_count": null,
   "id": "continuous-harassment",
   "metadata": {},
   "outputs": [],
   "source": [
    "l = [10, 100, 200]\n",
    "for i in l:\n",
    "    print(i//2)"
   ]
  },
  {
   "cell_type": "markdown",
   "id": "binding-sperm",
   "metadata": {},
   "source": [
    "What's goin on..."
   ]
  },
  {
   "cell_type": "markdown",
   "id": "medieval-pendant",
   "metadata": {},
   "source": []
  },
  {
   "cell_type": "markdown",
   "id": "mobile-franklin",
   "metadata": {},
   "source": [
    "## If statements"
   ]
  },
  {
   "cell_type": "code",
   "execution_count": null,
   "id": "focal-instrumentation",
   "metadata": {},
   "outputs": [],
   "source": [
    "your_name =  '' #Enter your name\n",
    "\n",
    "if your_name == 'Hao':\n",
    "    print('浩白您好')\n",
    "if your_name == 'Jungmin' or your_name == 'Ji':\n",
    "    print('안녕하세요')\n",
    "if your_name == 'Liam' or your_name == 'BossAssBitch':\n",
    "    print('00110010010')"
   ]
  },
  {
   "cell_type": "code",
   "execution_count": null,
   "id": "golden-fleet",
   "metadata": {},
   "outputs": [],
   "source": [
    "# Write a program that tells me when my coffee is ready. \n",
    "# I don't know, use an if statement or something."
   ]
  },
  {
   "cell_type": "code",
   "execution_count": null,
   "id": "affected-arthritis",
   "metadata": {},
   "outputs": [],
   "source": []
  },
  {
   "cell_type": "markdown",
   "id": "optical-poker",
   "metadata": {},
   "source": [
    "## Enumerate"
   ]
  },
  {
   "cell_type": "code",
   "execution_count": null,
   "id": "adaptive-eugene",
   "metadata": {},
   "outputs": [],
   "source": [
    "l = [1, 2, 3, 4, 5]\n",
    "#print the index, value for l"
   ]
  },
  {
   "cell_type": "markdown",
   "id": "acoustic-vehicle",
   "metadata": {},
   "source": []
  },
  {
   "cell_type": "markdown",
   "id": "excess-century",
   "metadata": {},
   "source": [
    "## Grandmaster challenge"
   ]
  },
  {
   "cell_type": "markdown",
   "id": "thrown-exclusive",
   "metadata": {},
   "source": [
    "Uh oh guys, we've reached the **grandmaster** challenge, today's BEAST-MODE WRECKAGE moment. Best of luck. "
   ]
  },
  {
   "cell_type": "markdown",
   "id": "tired-amount",
   "metadata": {},
   "source": [
    "If we list all the natural numbers below 10 that are multiples of 3 or 5, we get 3, 5, 6 and 9. The sum of these multiples is 23.\n",
    "\n",
    "Find the sum of all the multiples of 3 or 5 below 1000."
   ]
  },
  {
   "cell_type": "code",
   "execution_count": 28,
   "id": "capable-wages",
   "metadata": {},
   "outputs": [
    {
     "data": {
      "text/plain": [
       "'c'"
      ]
     },
     "execution_count": 28,
     "metadata": {},
     "output_type": "execute_result"
    }
   ],
   "source": [
    "l = ['a', 'b', 'c']\n",
    "l[2]"
   ]
  },
  {
   "cell_type": "code",
   "execution_count": 51,
   "id": "understanding-ebony",
   "metadata": {},
   "outputs": [
    {
     "name": "stdout",
     "output_type": "stream",
     "text": [
      "0\n",
      "1\n",
      "2\n",
      "3\n"
     ]
    }
   ],
   "source": [
    "for i in range(len('abcd')): \n",
    "    print(i)"
   ]
  },
  {
   "cell_type": "code",
   "execution_count": 139,
   "id": "appropriate-light",
   "metadata": {},
   "outputs": [
    {
     "name": "stdout",
     "output_type": "stream",
     "text": [
      "[0, 2, 4, 6, 8, 10, 12, 14, 16, 18, 20, 22, 24, 26, 28, 30, 32, 34, 36, 38, 40, 42, 44, 46, 48, 50, 52, 54, 56, 58, 60, 62, 64, 66, 68, 70, 72, 74, 76, 78, 80, 82, 84, 86, 88, 90, 92, 94, 96, 98, 100, 102, 104, 106, 108, 110, 112, 114, 116, 118, 120, 122, 124, 126, 128, 130, 132, 134, 136, 138, 140, 142, 144, 146, 148, 150, 152, 154, 156, 158, 160, 162, 164, 166, 168, 170, 172, 174, 176, 178, 180, 182, 184, 186, 188, 190, 192, 194, 196, 198, 200, 202, 204, 206, 208, 210, 212, 214, 216, 218, 220, 222, 224, 226, 228, 230, 232, 234, 236, 238, 240, 242, 244, 246, 248, 250, 252, 254, 256, 258, 260, 262, 264, 266, 268, 270, 272, 274, 276, 278, 280, 282, 284, 286, 288, 290, 292, 294, 296, 298, 300, 302, 304, 306, 308, 310, 312, 314, 316, 318, 320, 322, 324, 326, 328, 330, 332, 334, 336, 338, 340, 342, 344, 346, 348, 350, 352, 354, 356, 358, 360, 362, 364, 366, 368, 370, 372, 374, 376, 378, 380, 382, 384, 386, 388, 390, 392, 394, 396, 398, 400, 402, 404, 406, 408, 410, 412, 414, 416, 418, 420, 422, 424, 426, 428, 430, 432, 434, 436, 438, 440, 442, 444, 446, 448, 450, 452, 454, 456, 458, 460, 462, 464, 466, 468, 470, 472, 474, 476, 478, 480, 482, 484, 486, 488, 490, 492, 494, 496, 498, 500, 502, 504, 506, 508, 510, 512, 514, 516, 518, 520, 522, 524, 526, 528, 530, 532, 534, 536, 538, 540, 542, 544, 546, 548, 550, 552, 554, 556, 558, 560, 562, 564, 566, 568, 570, 572, 574, 576, 578, 580, 582, 584, 586, 588, 590, 592, 594, 596, 598, 600, 602, 604, 606, 608, 610, 612, 614, 616, 618, 620, 622, 624, 626, 628, 630, 632, 634, 636, 638, 640, 642, 644, 646, 648, 650, 652, 654, 656, 658, 660, 662, 664, 666, 668, 670, 672, 674, 676, 678, 680, 682, 684, 686, 688, 690, 692, 694, 696, 698, 700, 702, 704, 706, 708, 710, 712, 714, 716, 718, 720, 722, 724, 726, 728, 730, 732, 734, 736, 738, 740, 742, 744, 746, 748, 750, 752, 754, 756, 758, 760, 762, 764, 766, 768, 770, 772, 774, 776, 778, 780, 782, 784, 786, 788, 790, 792, 794, 796, 798, 800, 802, 804, 806, 808, 810, 812, 814, 816, 818, 820, 822, 824, 826, 828, 830, 832, 834, 836, 838, 840, 842, 844, 846, 848, 850, 852, 854, 856, 858, 860, 862, 864, 866, 868, 870, 872, 874, 876, 878, 880, 882, 884, 886, 888, 890, 892, 894, 896, 898, 900, 902, 904, 906, 908, 910, 912, 914, 916, 918, 920, 922, 924, 926, 928, 930, 932, 934, 936, 938, 940, 942, 944, 946, 948, 950, 952, 954, 956, 958, 960, 962, 964, 966, 968, 970, 972, 974, 976, 978, 980, 982, 984, 986, 988, 990, 992, 994, 996, 998]\n",
      "249500\n"
     ]
    }
   ],
   "source": [
    "#List comprehenesion \n",
    "\n",
    "\n",
    "\n",
    "x = [i for i in range(1000) if i%2 == 0]\n",
    "print(x)\n",
    "print(sum(x))"
   ]
  },
  {
   "cell_type": "code",
   "execution_count": null,
   "id": "latest-absence",
   "metadata": {},
   "outputs": [],
   "source": []
  },
  {
   "cell_type": "code",
   "execution_count": null,
   "id": "universal-thousand",
   "metadata": {},
   "outputs": [],
   "source": []
  },
  {
   "cell_type": "code",
   "execution_count": 129,
   "id": "anticipated-unknown",
   "metadata": {},
   "outputs": [
    {
     "name": "stdout",
     "output_type": "stream",
     "text": [
      "a\n",
      "c\n",
      "a\n",
      "c\n"
     ]
    },
    {
     "data": {
      "text/plain": [
       "[None, None]"
      ]
     },
     "execution_count": 129,
     "metadata": {},
     "output_type": "execute_result"
    }
   ],
   "source": [
    "l = ['a', 'b', 'c', 'd']\n",
    "#Only print every other element\n",
    "\n",
    "for i in range(len(l)): \n",
    "    if i%2==0:\n",
    "        print(l[i])\n",
    "\n",
    "[print(l[i]) for i in range(len(l)) if i%2==0]\n",
    "#Expected output: \n",
    "#a c"
   ]
  },
  {
   "cell_type": "code",
   "execution_count": 113,
   "id": "binding-orbit",
   "metadata": {},
   "outputs": [
    {
     "name": "stdout",
     "output_type": "stream",
     "text": [
      "249500\n"
     ]
    }
   ],
   "source": [
    "#Summing all even numbers below 1000\n",
    "c=0\n",
    "for i in range(1000):\n",
    "    if i%2==0:\n",
    "        c+=i\n",
    "print(c)"
   ]
  },
  {
   "cell_type": "code",
   "execution_count": 98,
   "id": "gentle-badge",
   "metadata": {},
   "outputs": [
    {
     "name": "stdout",
     "output_type": "stream",
     "text": [
      "[3, 4, 10, 20]\n"
     ]
    }
   ],
   "source": [
    "arr = [10, 4, 20, 3]\n",
    "\n",
    "n = len(a)\n",
    "for i in range(n): \n",
    "    for j in range(n-i-1): \n",
    "        if arr[j] > arr[j+1]: \n",
    "            arr[j], arr[j+1] = arr[j+1], arr[j]\n",
    "\n",
    "print(arr)"
   ]
  },
  {
   "cell_type": "code",
   "execution_count": null,
   "id": "dominant-mambo",
   "metadata": {},
   "outputs": [],
   "source": []
  },
  {
   "cell_type": "code",
   "execution_count": null,
   "id": "continuing-complaint",
   "metadata": {},
   "outputs": [],
   "source": []
  },
  {
   "cell_type": "code",
   "execution_count": 44,
   "id": "sensitive-salvation",
   "metadata": {},
   "outputs": [
    {
     "name": "stdout",
     "output_type": "stream",
     "text": [
      "0\n",
      "1\n",
      "2\n"
     ]
    }
   ],
   "source": [
    "l = ['a', 'b', 'c']\n",
    "\n",
    "for i, v in enumerate(l):\n",
    "    print (i)\n",
    "    "
   ]
  },
  {
   "cell_type": "code",
   "execution_count": null,
   "id": "suburban-death",
   "metadata": {},
   "outputs": [],
   "source": []
  },
  {
   "cell_type": "code",
   "execution_count": null,
   "id": "concrete-boring",
   "metadata": {},
   "outputs": [],
   "source": []
  },
  {
   "cell_type": "code",
   "execution_count": 1,
   "id": "accomplished-lesson",
   "metadata": {},
   "outputs": [
    {
     "data": {
      "text/plain": [
       "[(0, 'a'), (1, 'b'), (2, 'c'), (3, 'd')]"
      ]
     },
     "execution_count": 1,
     "metadata": {},
     "output_type": "execute_result"
    }
   ],
   "source": [
    "l = ['a', 'b', 'c', 'd']\n",
    "list(enumerate(l))"
   ]
  },
  {
   "cell_type": "code",
   "execution_count": null,
   "id": "still-think",
   "metadata": {},
   "outputs": [],
   "source": [
    "l = [ [0, 0, 'a'], [1, 1, 'b'], [2, 2, 'c'] ]\n",
    "for i, j, k in l t:\n",
    "    print(i, j, k)"
   ]
  },
  {
   "cell_type": "code",
   "execution_count": null,
   "id": "round-modeling",
   "metadata": {},
   "outputs": [],
   "source": []
  },
  {
   "cell_type": "code",
   "execution_count": null,
   "id": "gothic-closure",
   "metadata": {},
   "outputs": [],
   "source": [
    "list = [ [0, 0], [1, 1], [2, 2] ]\n",
    "i = 0 \n",
    "for v in list:\n",
    "    print (f'index{i} value{v}')\n",
    "    i+=1"
   ]
  },
  {
   "cell_type": "markdown",
   "id": "coral-burns",
   "metadata": {},
   "source": [
    "Let’s assume I have a list [“a”, “b”, “c”] and want to, for each element\n",
    "of the list, print out its index-value pair."
   ]
  },
  {
   "cell_type": "code",
   "execution_count": null,
   "id": "representative-certificate",
   "metadata": {},
   "outputs": [],
   "source": [
    "list = ['a','b','c','d']\n",
    "i = 0\n",
    "for v in list:\n",
    "    print ('index ' + str(i) +' value ' + str(v))\n",
    "    i +=1"
   ]
  },
  {
   "cell_type": "code",
   "execution_count": null,
   "id": "unauthorized-october",
   "metadata": {},
   "outputs": [],
   "source": [
    "string = \"abcd\"\n",
    "i = 0\n",
    "for v in string:\n",
    "    print('i is {} v is {}'+ str(i, v))\n",
    "    print(f\"index {i} value {v}\")\n",
    "    i += 1"
   ]
  },
  {
   "cell_type": "code",
   "execution_count": null,
   "id": "equal-riverside",
   "metadata": {},
   "outputs": [],
   "source": []
  },
  {
   "cell_type": "code",
   "execution_count": null,
   "id": "small-danish",
   "metadata": {},
   "outputs": [],
   "source": []
  },
  {
   "cell_type": "code",
   "execution_count": null,
   "id": "obvious-suffering",
   "metadata": {},
   "outputs": [],
   "source": []
  },
  {
   "cell_type": "code",
   "execution_count": null,
   "id": "abstract-programmer",
   "metadata": {},
   "outputs": [],
   "source": []
  },
  {
   "cell_type": "code",
   "execution_count": null,
   "id": "polish-machine",
   "metadata": {},
   "outputs": [],
   "source": []
  },
  {
   "cell_type": "code",
   "execution_count": null,
   "id": "injured-fighter",
   "metadata": {},
   "outputs": [],
   "source": []
  },
  {
   "cell_type": "code",
   "execution_count": null,
   "id": "spatial-jacob",
   "metadata": {},
   "outputs": [],
   "source": []
  },
  {
   "cell_type": "markdown",
   "id": "fitting-lancaster",
   "metadata": {},
   "source": [
    "Can I sum all the numbers below 100000 that are divisible by 414 or 4543?"
   ]
  },
  {
   "cell_type": "code",
   "execution_count": null,
   "id": "viral-coverage",
   "metadata": {},
   "outputs": [],
   "source": []
  },
  {
   "cell_type": "markdown",
   "id": "asian-bundle",
   "metadata": {},
   "source": [
    "Let’s assume I have a string “abc” and want to, for each element of the\n",
    "string, print out its index-value pair."
   ]
  },
  {
   "cell_type": "code",
   "execution_count": null,
   "id": "ahead-shower",
   "metadata": {},
   "outputs": [],
   "source": []
  },
  {
   "cell_type": "code",
   "execution_count": null,
   "id": "unable-purchase",
   "metadata": {},
   "outputs": [],
   "source": []
  },
  {
   "cell_type": "code",
   "execution_count": null,
   "id": "abroad-contamination",
   "metadata": {},
   "outputs": [],
   "source": []
  },
  {
   "cell_type": "code",
   "execution_count": null,
   "id": "developing-pollution",
   "metadata": {},
   "outputs": [],
   "source": []
  },
  {
   "cell_type": "code",
   "execution_count": null,
   "id": "peaceful-deadline",
   "metadata": {},
   "outputs": [],
   "source": []
  },
  {
   "cell_type": "code",
   "execution_count": null,
   "id": "expected-disorder",
   "metadata": {},
   "outputs": [],
   "source": []
  },
  {
   "cell_type": "code",
   "execution_count": null,
   "id": "confused-guinea",
   "metadata": {},
   "outputs": [],
   "source": []
  },
  {
   "cell_type": "code",
   "execution_count": null,
   "id": "alive-guest",
   "metadata": {},
   "outputs": [],
   "source": []
  },
  {
   "cell_type": "code",
   "execution_count": null,
   "id": "purple-senator",
   "metadata": {},
   "outputs": [],
   "source": []
  }
 ],
 "metadata": {
  "kernelspec": {
   "display_name": "Python 3",
   "language": "python",
   "name": "python3"
  },
  "language_info": {
   "codemirror_mode": {
    "name": "ipython",
    "version": 3
   },
   "file_extension": ".py",
   "mimetype": "text/x-python",
   "name": "python",
   "nbconvert_exporter": "python",
   "pygments_lexer": "ipython3",
   "version": "3.8.5"
  }
 },
 "nbformat": 4,
 "nbformat_minor": 5
}
