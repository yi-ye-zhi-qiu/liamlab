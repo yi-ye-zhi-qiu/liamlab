{
 "cells": [
  {
   "cell_type": "markdown",
   "id": "returning-brave",
   "metadata": {},
   "source": [
    "## Hints for 06/12 Stuff\n",
    "\n",
    "#### Liam's Lab"
   ]
  },
  {
   "cell_type": "markdown",
   "id": "expanded-release",
   "metadata": {},
   "source": [
    "----"
   ]
  },
  {
   "cell_type": "markdown",
   "id": "elementary-solid",
   "metadata": {},
   "source": [
    "#### **Active solve**:\n",
    "Let’s assume I have a list [“a”, “b”, “c”] and want to, for each element of the list, print out its index-value pair. \n",
    "\n",
    "#### **Active solve**:\n",
    "Let’s assume I have a string “abc” and want to, for each element of the string, print out its index-value pair. "
   ]
  },
  {
   "cell_type": "markdown",
   "id": "planned-waste",
   "metadata": {},
   "source": [
    "Hints: \n",
    "- Use a for loop\n",
    "- Use a counter to increment a variable"
   ]
  },
  {
   "cell_type": "code",
   "execution_count": 1,
   "id": "faced-boards",
   "metadata": {},
   "outputs": [
    {
     "name": "stdout",
     "output_type": "stream",
     "text": [
      "a\n",
      "b\n",
      "c\n"
     ]
    }
   ],
   "source": [
    "#Write your code here!\n",
    "\n",
    "l = ['a', 'b', 'c']\n",
    "\n",
    "for element in l: \n",
    "    \n",
    "    print(element)\n",
    "\n",
    "#Desired output: \n",
    "#Value: a, Index: 0\n",
    "#Value: b, Index: 1\n",
    "#Value: c, Index: 2"
   ]
  },
  {
   "cell_type": "code",
   "execution_count": 2,
   "id": "controlling-houston",
   "metadata": {},
   "outputs": [
    {
     "name": "stdout",
     "output_type": "stream",
     "text": [
      "1\n",
      "2\n",
      "3\n",
      "4\n",
      "5\n",
      "6\n",
      "7\n",
      "8\n",
      "9\n",
      "10\n"
     ]
    }
   ],
   "source": [
    "counter = 0\n",
    "for num in range(10):\n",
    "    \n",
    "    #counter = counter + 1\n",
    "    #Same thing:\n",
    "    counter += 1\n",
    "    print(counter)"
   ]
  },
  {
   "cell_type": "code",
   "execution_count": 4,
   "id": "threatened-helping",
   "metadata": {},
   "outputs": [
    {
     "name": "stdout",
     "output_type": "stream",
     "text": [
      "Value is a\n",
      "Value is a\n",
      "Value is a\n",
      "Value is a\n"
     ]
    }
   ],
   "source": [
    "val = 'a'\n",
    "print('Value is',val)\n",
    "print('Value is ' + val)\n",
    "print(f'Value is {val}')\n",
    "print('Value is {}'.format(val))"
   ]
  },
  {
   "cell_type": "code",
   "execution_count": 5,
   "id": "selected-framing",
   "metadata": {},
   "outputs": [
    {
     "ename": "TypeError",
     "evalue": "can only concatenate str (not \"int\") to str",
     "output_type": "error",
     "traceback": [
      "\u001b[0;31m---------------------------------------------------------------------------\u001b[0m",
      "\u001b[0;31mTypeError\u001b[0m                                 Traceback (most recent call last)",
      "\u001b[0;32m<ipython-input-5-28a0a044e5a2>\u001b[0m in \u001b[0;36m<module>\u001b[0;34m\u001b[0m\n\u001b[1;32m      1\u001b[0m \u001b[0mindex\u001b[0m \u001b[0;34m=\u001b[0m \u001b[0;36m0\u001b[0m\u001b[0;34m\u001b[0m\u001b[0;34m\u001b[0m\u001b[0m\n\u001b[0;32m----> 2\u001b[0;31m \u001b[0mprint\u001b[0m\u001b[0;34m(\u001b[0m\u001b[0;34m'Index is'\u001b[0m \u001b[0;34m+\u001b[0m \u001b[0mindex\u001b[0m\u001b[0;34m)\u001b[0m\u001b[0;34m\u001b[0m\u001b[0;34m\u001b[0m\u001b[0m\n\u001b[0m",
      "\u001b[0;31mTypeError\u001b[0m: can only concatenate str (not \"int\") to str"
     ]
    }
   ],
   "source": [
    "index = 0\n",
    "print('Index is' + index)"
   ]
  },
  {
   "cell_type": "code",
   "execution_count": 11,
   "id": "bulgarian-species",
   "metadata": {},
   "outputs": [
    {
     "name": "stdout",
     "output_type": "stream",
     "text": [
      "\"0\" is a  <class 'int'>\n",
      "\"Index is\" is a <class 'str'>\n",
      "Index is 0\n"
     ]
    }
   ],
   "source": [
    "'''\n",
    "print('Index is' + 0) does not work! \n",
    "\n",
    "Why?\n",
    "\n",
    "Concatenation: joining 2+ things together, expressed by \"+\"\n",
    "\n",
    "Rule: must be same data type (strings with strings, integers with integers)\n",
    "\n",
    "What's the data-type of 0 or \"Index is\"\n",
    "'''\n",
    "\n",
    "print('\"0\" is a ',type(0))\n",
    "print('\"Index is\" is a',type(\"Index is\"))\n",
    "\n",
    "'''\n",
    "Since they are int and str, we must change 0 to str, as \"Index is\" cannot be \n",
    "changed to a base-ten integer\n",
    "'''\n",
    "\n",
    "print('Index is' + ' ' + str(0))"
   ]
  },
  {
   "cell_type": "markdown",
   "id": "reliable-berkeley",
   "metadata": {},
   "source": [
    "----"
   ]
  },
  {
   "cell_type": "markdown",
   "id": "compatible-narrow",
   "metadata": {},
   "source": [
    "Hint: this has to do with properties of tuples!"
   ]
  },
  {
   "cell_type": "code",
   "execution_count": 13,
   "id": "experienced-prophet",
   "metadata": {},
   "outputs": [
    {
     "ename": "TypeError",
     "evalue": "'tuple' object does not support item assignment",
     "output_type": "error",
     "traceback": [
      "\u001b[0;31m---------------------------------------------------------------------------\u001b[0m",
      "\u001b[0;31mTypeError\u001b[0m                                 Traceback (most recent call last)",
      "\u001b[0;32m<ipython-input-13-ddb2b7ca5740>\u001b[0m in \u001b[0;36m<module>\u001b[0;34m\u001b[0m\n\u001b[1;32m      1\u001b[0m \u001b[0ml\u001b[0m \u001b[0;34m=\u001b[0m \u001b[0;34m[\u001b[0m\u001b[0;34m'a'\u001b[0m\u001b[0;34m,\u001b[0m \u001b[0;34m'b'\u001b[0m\u001b[0;34m,\u001b[0m \u001b[0;34m'c'\u001b[0m\u001b[0;34m]\u001b[0m\u001b[0;34m\u001b[0m\u001b[0;34m\u001b[0m\u001b[0m\n\u001b[1;32m      2\u001b[0m \u001b[0;32mfor\u001b[0m \u001b[0mi\u001b[0m \u001b[0;32min\u001b[0m \u001b[0menumerate\u001b[0m\u001b[0;34m(\u001b[0m\u001b[0ml\u001b[0m\u001b[0;34m)\u001b[0m\u001b[0;34m:\u001b[0m\u001b[0;34m\u001b[0m\u001b[0;34m\u001b[0m\u001b[0m\n\u001b[0;32m----> 3\u001b[0;31m     \u001b[0mi\u001b[0m\u001b[0;34m[\u001b[0m\u001b[0;36m0\u001b[0m\u001b[0;34m]\u001b[0m \u001b[0;34m=\u001b[0m \u001b[0;34m\"Mwhahaha, I am changing this iteration's element's zeroth index!\"\u001b[0m\u001b[0;34m\u001b[0m\u001b[0;34m\u001b[0m\u001b[0m\n\u001b[0m\u001b[1;32m      4\u001b[0m     \u001b[0;31m#print(i)\u001b[0m\u001b[0;34m\u001b[0m\u001b[0;34m\u001b[0m\u001b[0;34m\u001b[0m\u001b[0m\n",
      "\u001b[0;31mTypeError\u001b[0m: 'tuple' object does not support item assignment"
     ]
    }
   ],
   "source": [
    "l = ['a', 'b', 'c']\n",
    "for i in enumerate(l):\n",
    "    i[0] = \"Mwhahaha, I am changing this iteration's element's zeroth index!\"\n",
    "    #print(i)"
   ]
  },
  {
   "cell_type": "markdown",
   "id": "directed-isolation",
   "metadata": {},
   "source": [
    "----"
   ]
  },
  {
   "cell_type": "code",
   "execution_count": null,
   "id": "centered-producer",
   "metadata": {},
   "outputs": [],
   "source": []
  }
 ],
 "metadata": {
  "kernelspec": {
   "display_name": "Python 3",
   "language": "python",
   "name": "python3"
  },
  "language_info": {
   "codemirror_mode": {
    "name": "ipython",
    "version": 3
   },
   "file_extension": ".py",
   "mimetype": "text/x-python",
   "name": "python",
   "nbconvert_exporter": "python",
   "pygments_lexer": "ipython3",
   "version": "3.8.5"
  }
 },
 "nbformat": 4,
 "nbformat_minor": 5
}
