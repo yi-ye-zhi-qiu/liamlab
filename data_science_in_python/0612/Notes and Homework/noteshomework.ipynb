{
 "cells": [
  {
   "cell_type": "markdown",
   "id": "civil-lunch",
   "metadata": {},
   "source": [
    "## Liam's Lab, June 12 2021"
   ]
  },
  {
   "cell_type": "markdown",
   "id": "corresponding-communist",
   "metadata": {},
   "source": [
    "#### notes & hw"
   ]
  },
  {
   "cell_type": "markdown",
   "id": "appointed-resolution",
   "metadata": {},
   "source": [
    "----"
   ]
  },
  {
   "cell_type": "code",
   "execution_count": 1,
   "id": "million-destiny",
   "metadata": {},
   "outputs": [],
   "source": [
    "import random \n",
    "from datetime import datetime"
   ]
  },
  {
   "cell_type": "code",
   "execution_count": 2,
   "id": "satisfied-seafood",
   "metadata": {},
   "outputs": [],
   "source": [
    "def emoji_chooser(): \n",
    "    '''\n",
    "    Chooses a random emoji\n",
    "    @requirements:  import random \n",
    "    @parameters:    None\n",
    "    @outputs:       random emoji from emoji list defined as emojis\n",
    "    '''\n",
    "    emojis = [\"🐧\", \"🦆\", \"🐠\", \"🍂\", \"🍄\", \"🌺\", \"☃️\", \"🐝\", \"👻\"]\n",
    "    chosen_emoji = random.choice(emojis)\n",
    "    return chosen_emoji\n",
    "\n",
    "def yes_or_no(game_over=False,\n",
    "              override_user_choice=False,\n",
    "              number_of_times_rejected = 0):\n",
    "    '''\n",
    "    Python game for saying yes or no. Game ends when user says \"Yes\" or \"No\" 4 times.\n",
    "    @requirements:   emoji_chooser\n",
    "    @parameters:     parameter             functionality\n",
    "                     game_over                 boolean to check if game has ended;\n",
    "                     override_user_choice      boolean to check if user's choice should be forced to be \"Yes\"\n",
    "                     number_of_times_rejected  counter incremented upon user saying \"No\" that exists \n",
    "                                               to trigger override_user_choice to be True if > 4\n",
    "    @outputs:        Will ask for user input and return 'You said Yes, thanks for your support!' upon input yes, reaction + emoji if No, \n",
    "                     execute an override of user input to Yes if # times rejected >= 5, and re-runs itself if user_input is not Yes or No.\n",
    "            \n",
    "    '''\n",
    "    \n",
    "    while not game_over:\n",
    "    \n",
    "        if override_user_choice == False and number_of_times_rejected < 5:\n",
    "            user_input = input('Please type \"Yes\" or \"No\"')\n",
    "            print(f'=====\\nADMIN PANEL:\\n    USER INPUT WAS {user_input} \\n    # OF TIMES USER HAS SAID NO: {number_of_times_rejected}\\n    USER OVERRIDE BOOLEAN: {override_user_choice}\\n=====')\n",
    "\n",
    "            if user_input == 'No':\n",
    "                number_of_times_rejected += 1\n",
    "                \n",
    "                possible_exclamations = [\"OMG ok well...     \", \"LOLLL really?     \", \"Nooo c'mon     \", \"Oh my ...    \", \" Stop I'm warning you...    \"]\n",
    "                reaction = random.choice(possible_exclamations) + emoji_chooser()\n",
    "                print(reaction)\n",
    "                \n",
    "                if number_of_times_rejected >= 5:\n",
    "                    print('What makes you think this is a discussion?')\n",
    "                    yes_or_no(override_user_choice=True, \n",
    "                              game_over=False,\n",
    "                              number_of_times_rejected =number_of_times_rejected)\n",
    "\n",
    "                yes_or_no(game_over=False,\n",
    "                          number_of_times_rejected   =number_of_times_rejected)\n",
    "\n",
    "            if user_input == 'Yes':\n",
    "                print('You said {} , thanks for your support!'.format(user_input))\n",
    "                yes_or_no(game_over=True)\n",
    "        \n",
    "            if user_input not in ['Yes', 'No']:\n",
    "                print(\"Stick to Yes or No ..\")\n",
    "                yes_or_no(game_over=False,\n",
    "                        number_of_times_rejected =number_of_times_rejected)        \n",
    "\n",
    "        if override_user_choice == True:\n",
    "            print('YOUR CHOICE HAS BEEN OVERRIDDEN ! HAAHAHa hah aHAHAHA AHAHAHA')\n",
    "            print('   HAHAHAHAHAHAH YES, THE POWER IS ALL MINE!!!    ')\n",
    "            print('       Yes, YOU SAID? HAH ')\n",
    "            break;\n",
    "        \n",
    "        break;\n",
    "\n"
   ]
  },
  {
   "cell_type": "code",
   "execution_count": 3,
   "id": "crucial-physiology",
   "metadata": {},
   "outputs": [
    {
     "name": "stdout",
     "output_type": "stream",
     "text": [
      "Hello welcome to the yes or no block of code chooser!\n",
      "Request is \"referring to things in a list as elements\" \n",
      "Made by Liam, Lab Member 00 @ 10:20:24 \n",
      "What do you say? Is this change all right with you?\n"
     ]
    },
    {
     "name": "stdin",
     "output_type": "stream",
     "text": [
      "Please type \"Yes\" or \"No\" No\n"
     ]
    },
    {
     "name": "stdout",
     "output_type": "stream",
     "text": [
      "=====\n",
      "ADMIN PANEL:\n",
      "    USER INPUT WAS No \n",
      "    # OF TIMES USER HAS SAID NO: 0\n",
      "    USER OVERRIDE BOOLEAN: False\n",
      "=====\n",
      "Oh my ...    🌺\n"
     ]
    },
    {
     "ename": "KeyboardInterrupt",
     "evalue": "Interrupted by user",
     "output_type": "error",
     "traceback": [
      "\u001b[0;31m---------------------------------------------------------------------------\u001b[0m",
      "\u001b[0;31mKeyboardInterrupt\u001b[0m                         Traceback (most recent call last)",
      "\u001b[0;32m<ipython-input-3-12bb233e6b3a>\u001b[0m in \u001b[0;36m<module>\u001b[0;34m\u001b[0m\n\u001b[1;32m      6\u001b[0m \u001b[0mprint\u001b[0m\u001b[0;34m(\u001b[0m\u001b[0;34m'Hello welcome to the yes or no block of code chooser!'\u001b[0m\u001b[0;34m)\u001b[0m\u001b[0;34m\u001b[0m\u001b[0;34m\u001b[0m\u001b[0m\n\u001b[1;32m      7\u001b[0m \u001b[0mprint\u001b[0m\u001b[0;34m(\u001b[0m\u001b[0;34mf'Request is \"{request}\" \\nMade by {requestor} @ {current_time} \\nWhat do you say? Is this change all right with you?'\u001b[0m\u001b[0;34m)\u001b[0m\u001b[0;34m\u001b[0m\u001b[0;34m\u001b[0m\u001b[0m\n\u001b[0;32m----> 8\u001b[0;31m \u001b[0myes_or_no\u001b[0m\u001b[0;34m(\u001b[0m\u001b[0mgame_over\u001b[0m \u001b[0;34m=\u001b[0m \u001b[0;32mFalse\u001b[0m\u001b[0;34m)\u001b[0m\u001b[0;34m\u001b[0m\u001b[0;34m\u001b[0m\u001b[0m\n\u001b[0m",
      "\u001b[0;32m<ipython-input-2-0b09bdef0bfa>\u001b[0m in \u001b[0;36myes_or_no\u001b[0;34m(game_over, override_user_choice, number_of_times_rejected)\u001b[0m\n\u001b[1;32m     45\u001b[0m                               number_of_times_rejected =number_of_times_rejected)\n\u001b[1;32m     46\u001b[0m \u001b[0;34m\u001b[0m\u001b[0m\n\u001b[0;32m---> 47\u001b[0;31m                 yes_or_no(game_over=False,\n\u001b[0m\u001b[1;32m     48\u001b[0m                           number_of_times_rejected   =number_of_times_rejected)\n\u001b[1;32m     49\u001b[0m \u001b[0;34m\u001b[0m\u001b[0m\n",
      "\u001b[0;32m<ipython-input-2-0b09bdef0bfa>\u001b[0m in \u001b[0;36myes_or_no\u001b[0;34m(game_over, override_user_choice, number_of_times_rejected)\u001b[0m\n\u001b[1;32m     29\u001b[0m \u001b[0;34m\u001b[0m\u001b[0m\n\u001b[1;32m     30\u001b[0m         \u001b[0;32mif\u001b[0m \u001b[0moverride_user_choice\u001b[0m \u001b[0;34m==\u001b[0m \u001b[0;32mFalse\u001b[0m \u001b[0;32mand\u001b[0m \u001b[0mnumber_of_times_rejected\u001b[0m \u001b[0;34m<\u001b[0m \u001b[0;36m5\u001b[0m\u001b[0;34m:\u001b[0m\u001b[0;34m\u001b[0m\u001b[0;34m\u001b[0m\u001b[0m\n\u001b[0;32m---> 31\u001b[0;31m             \u001b[0muser_input\u001b[0m \u001b[0;34m=\u001b[0m \u001b[0minput\u001b[0m\u001b[0;34m(\u001b[0m\u001b[0;34m'Please type \"Yes\" or \"No\"'\u001b[0m\u001b[0;34m)\u001b[0m\u001b[0;34m\u001b[0m\u001b[0;34m\u001b[0m\u001b[0m\n\u001b[0m\u001b[1;32m     32\u001b[0m             \u001b[0mprint\u001b[0m\u001b[0;34m(\u001b[0m\u001b[0;34mf'=====\\nADMIN PANEL:\\n    USER INPUT WAS {user_input} \\n    # OF TIMES USER HAS SAID NO: {number_of_times_rejected}\\n    USER OVERRIDE BOOLEAN: {override_user_choice}\\n====='\u001b[0m\u001b[0;34m)\u001b[0m\u001b[0;34m\u001b[0m\u001b[0;34m\u001b[0m\u001b[0m\n\u001b[1;32m     33\u001b[0m \u001b[0;34m\u001b[0m\u001b[0m\n",
      "\u001b[0;32m~/opt/anaconda3/lib/python3.8/site-packages/ipykernel/kernelbase.py\u001b[0m in \u001b[0;36mraw_input\u001b[0;34m(self, prompt)\u001b[0m\n\u001b[1;32m    858\u001b[0m                 \u001b[0;34m\"raw_input was called, but this frontend does not support input requests.\"\u001b[0m\u001b[0;34m\u001b[0m\u001b[0;34m\u001b[0m\u001b[0m\n\u001b[1;32m    859\u001b[0m             )\n\u001b[0;32m--> 860\u001b[0;31m         return self._input_request(str(prompt),\n\u001b[0m\u001b[1;32m    861\u001b[0m             \u001b[0mself\u001b[0m\u001b[0;34m.\u001b[0m\u001b[0m_parent_ident\u001b[0m\u001b[0;34m,\u001b[0m\u001b[0;34m\u001b[0m\u001b[0;34m\u001b[0m\u001b[0m\n\u001b[1;32m    862\u001b[0m             \u001b[0mself\u001b[0m\u001b[0;34m.\u001b[0m\u001b[0m_parent_header\u001b[0m\u001b[0;34m,\u001b[0m\u001b[0;34m\u001b[0m\u001b[0;34m\u001b[0m\u001b[0m\n",
      "\u001b[0;32m~/opt/anaconda3/lib/python3.8/site-packages/ipykernel/kernelbase.py\u001b[0m in \u001b[0;36m_input_request\u001b[0;34m(self, prompt, ident, parent, password)\u001b[0m\n\u001b[1;32m    902\u001b[0m             \u001b[0;32mexcept\u001b[0m \u001b[0mKeyboardInterrupt\u001b[0m\u001b[0;34m:\u001b[0m\u001b[0;34m\u001b[0m\u001b[0;34m\u001b[0m\u001b[0m\n\u001b[1;32m    903\u001b[0m                 \u001b[0;31m# re-raise KeyboardInterrupt, to truncate traceback\u001b[0m\u001b[0;34m\u001b[0m\u001b[0;34m\u001b[0m\u001b[0;34m\u001b[0m\u001b[0m\n\u001b[0;32m--> 904\u001b[0;31m                 \u001b[0;32mraise\u001b[0m \u001b[0mKeyboardInterrupt\u001b[0m\u001b[0;34m(\u001b[0m\u001b[0;34m\"Interrupted by user\"\u001b[0m\u001b[0;34m)\u001b[0m \u001b[0;32mfrom\u001b[0m \u001b[0;32mNone\u001b[0m\u001b[0;34m\u001b[0m\u001b[0;34m\u001b[0m\u001b[0m\n\u001b[0m\u001b[1;32m    905\u001b[0m             \u001b[0;32mexcept\u001b[0m \u001b[0mException\u001b[0m \u001b[0;32mas\u001b[0m \u001b[0me\u001b[0m\u001b[0;34m:\u001b[0m\u001b[0;34m\u001b[0m\u001b[0;34m\u001b[0m\u001b[0m\n\u001b[1;32m    906\u001b[0m                 \u001b[0mself\u001b[0m\u001b[0;34m.\u001b[0m\u001b[0mlog\u001b[0m\u001b[0;34m.\u001b[0m\u001b[0mwarning\u001b[0m\u001b[0;34m(\u001b[0m\u001b[0;34m\"Invalid Message:\"\u001b[0m\u001b[0;34m,\u001b[0m \u001b[0mexc_info\u001b[0m\u001b[0;34m=\u001b[0m\u001b[0;32mTrue\u001b[0m\u001b[0;34m)\u001b[0m\u001b[0;34m\u001b[0m\u001b[0;34m\u001b[0m\u001b[0m\n",
      "\u001b[0;31mKeyboardInterrupt\u001b[0m: Interrupted by user"
     ]
    }
   ],
   "source": [
    "request = 'referring to things in a list as elements'\n",
    "requestor = 'Liam, Lab Member 00'\n",
    "now = datetime.now()\n",
    "current_time = now.strftime(\"%H:%M:%S\")    \n",
    "\n",
    "print('Hello welcome to the yes or no block of code chooser!')\n",
    "print(f'Request is \"{request}\" \\nMade by {requestor} @ {current_time} \\nWhat do you say? Is this change all right with you?')\n",
    "yes_or_no(game_over = False)"
   ]
  },
  {
   "cell_type": "markdown",
   "id": "worldwide-ready",
   "metadata": {},
   "source": [
    "----"
   ]
  },
  {
   "cell_type": "markdown",
   "id": "weird-mobile",
   "metadata": {},
   "source": [
    "#### **Active solve**:\n",
    "Let’s assume I have a list [“a”, “b”, “c”] and want to, for each element of the list, print out its index-value pair. "
   ]
  },
  {
   "cell_type": "code",
   "execution_count": 58,
   "id": "compound-suicide",
   "metadata": {},
   "outputs": [],
   "source": [
    "#Write your code here!\n",
    "\n",
    "\n",
    "#Desired output: \n",
    "#Value: a, Index: 0\n",
    "#Value: b, Index: 1\n",
    "#Value: c, Index: 2"
   ]
  },
  {
   "cell_type": "markdown",
   "id": "upper-retailer",
   "metadata": {},
   "source": [
    "#### **Active solve**:\n",
    "Let’s assume I have a string “abc” and want to, for each element of the string, print out its index-value pair. "
   ]
  },
  {
   "cell_type": "code",
   "execution_count": null,
   "id": "paperback-challenge",
   "metadata": {},
   "outputs": [],
   "source": [
    "#Write your code here!\n",
    "\n",
    "\n",
    "#Desired output: \n",
    "#Value: a, Index: 0\n",
    "#Value: b, Index: 1\n",
    "#Value: c, Index: 2"
   ]
  },
  {
   "cell_type": "markdown",
   "id": "consolidated-collins",
   "metadata": {},
   "source": [
    "#### **Active solve**:\n",
    "Let’s assume I have a list of lists [[0,0],[1,1],[2,2]]  and want to, for each element of the list of lists, print out its index-value pair. "
   ]
  },
  {
   "cell_type": "code",
   "execution_count": 70,
   "id": "buried-library",
   "metadata": {},
   "outputs": [],
   "source": [
    "#Write your code here!\n",
    "\n",
    "#Desired output: \n",
    "#Value: [0, 0], Index: 0\n",
    "#Value: [1, 1], Index: 1\n",
    "#Value: [2, 2], Index: 2"
   ]
  },
  {
   "cell_type": "markdown",
   "id": "alpine-review",
   "metadata": {},
   "source": [
    "#### **Active solve**:\n",
    "\n",
    "Let’s assume I have a list [‘a’, ‘b’, ‘c’] and want to, for each element of the string, use enumerate to print out its index-value pair as a tuple. "
   ]
  },
  {
   "cell_type": "code",
   "execution_count": 71,
   "id": "quarterly-interview",
   "metadata": {},
   "outputs": [],
   "source": [
    "#Write your code here!\n",
    "\n",
    "#Desired output: \n",
    "#(a, 0)\n",
    "#(b, 1)\n",
    "#(c, 2)"
   ]
  },
  {
   "cell_type": "markdown",
   "id": "other-blade",
   "metadata": {},
   "source": [
    "#### **Active solve**:\n",
    "    \n",
    "Let’s assume I have a list [‘a’, ‘b’, ‘c’] and want to, for each element of \n",
    "the string, use enumerate to print out only the index. \n"
   ]
  },
  {
   "cell_type": "code",
   "execution_count": 72,
   "id": "existing-baghdad",
   "metadata": {},
   "outputs": [],
   "source": [
    "#Write your code here!\n",
    "\n",
    "#Desired output: \n",
    "#0\n",
    "#1\n",
    "#2"
   ]
  },
  {
   "cell_type": "markdown",
   "id": "radical-binding",
   "metadata": {},
   "source": [
    "#### **Active solve:**\n",
    "\n",
    "Let’s assume I have a list [‘a’, ‘b’, ‘c’] and want to, for each element of the string, use enumerate to print out the index-value pair. "
   ]
  },
  {
   "cell_type": "code",
   "execution_count": 73,
   "id": "endangered-sequence",
   "metadata": {},
   "outputs": [],
   "source": [
    "#Write your code here!\n",
    "\n",
    "#Desired output: \n",
    "#Value: a, Index: 0\n",
    "#Value: b, Index: 1\n",
    "#Value: c, Index: 2"
   ]
  },
  {
   "cell_type": "markdown",
   "id": "integrated-acting",
   "metadata": {},
   "source": [
    "#### **Active solve:**\n",
    "\n",
    "Can you write some code that sums all even numbers in the range 1-100?\n",
    "\n",
    "Hint: even numbers are divisible by 2."
   ]
  },
  {
   "cell_type": "code",
   "execution_count": null,
   "id": "covered-sister",
   "metadata": {},
   "outputs": [],
   "source": []
  },
  {
   "cell_type": "markdown",
   "id": "searching-rolling",
   "metadata": {},
   "source": [
    "----"
   ]
  },
  {
   "cell_type": "markdown",
   "id": "terminal-smooth",
   "metadata": {},
   "source": [
    "### Multiples of 3 and 5\n",
    "\n",
    "If we list all the natural numbers below 10 that are multiples of 3 or 5, we get 3, 5, 6 and 9. The sum of these multiples is 23.\n",
    "Find the sum of all the multiples of 3 or 5 below 1000.\n"
   ]
  },
  {
   "cell_type": "code",
   "execution_count": null,
   "id": "false-details",
   "metadata": {},
   "outputs": [],
   "source": []
  },
  {
   "cell_type": "markdown",
   "id": "acoustic-robinson",
   "metadata": {},
   "source": [
    "### Even Fibonacci Numbers\n",
    "\n",
    "Each new term in the Fibonacci sequence is generated by adding the previous two terms. By starting with 1 and 2, the first 10 terms will be:\n",
    "1, 2, 3, 5, 8, 13, 21, 34, 55, 89, ...\n",
    "By considering the terms in the Fibonacci sequence whose values do not exceed four million, find the sum of the even-valued terms.\n"
   ]
  },
  {
   "cell_type": "code",
   "execution_count": null,
   "id": "retired-daughter",
   "metadata": {},
   "outputs": [],
   "source": []
  }
 ],
 "metadata": {
  "kernelspec": {
   "display_name": "Python 3",
   "language": "python",
   "name": "python3"
  },
  "language_info": {
   "codemirror_mode": {
    "name": "ipython",
    "version": 3
   },
   "file_extension": ".py",
   "mimetype": "text/x-python",
   "name": "python",
   "nbconvert_exporter": "python",
   "pygments_lexer": "ipython3",
   "version": "3.8.5"
  }
 },
 "nbformat": 4,
 "nbformat_minor": 5
}
